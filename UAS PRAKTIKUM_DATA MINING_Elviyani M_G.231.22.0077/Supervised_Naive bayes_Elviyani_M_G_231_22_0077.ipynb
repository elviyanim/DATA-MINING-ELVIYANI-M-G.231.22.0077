{
  "nbformat": 4,
  "nbformat_minor": 0,
  "metadata": {
    "colab": {
      "provenance": []
    },
    "kernelspec": {
      "name": "python3",
      "display_name": "Python 3"
    },
    "language_info": {
      "name": "python"
    }
  },
  "cells": [
    {
      "cell_type": "markdown",
      "source": [
        "Nama : Elviyani Mawarni\n",
        "NIM : G.231.22.0077"
      ],
      "metadata": {
        "id": "_Cc8xTBL5KrP"
      }
    },
    {
      "cell_type": "code",
      "execution_count": 6,
      "metadata": {
        "id": "GZRnKnC20SxG"
      },
      "outputs": [],
      "source": [
        "import pandas as pd\n",
        "import numpy as np\n",
        "import string\n",
        "import nltk\n",
        "import seaborn as sns"
      ]
    },
    {
      "cell_type": "code",
      "source": [
        "#membaca data dari data review bareksa app store dan play store\n",
        "data = pd.read_csv('https://docs.google.com/spreadsheets/d/e/2PACX-1vT183TiLIofS-qIzGhEYS-3DixtSHdLuTkGQLpLx4hBihkygIFYVc1MImzBYhHXW6wk-gmwAHV4AwTO/pub?gid=248246508&single=true&output=csv')\n",
        "data.head()"
      ],
      "metadata": {
        "colab": {
          "base_uri": "https://localhost:8080/",
          "height": 295
        },
        "id": "fk4j_hlf0xRe",
        "outputId": "0b842001-e26b-4f22-c309-858d7e3f3419"
      },
      "execution_count": 33,
      "outputs": [
        {
          "output_type": "execute_result",
          "data": {
            "text/plain": [
              "                                  review_description  rating  Year  Month  \\\n",
              "0                                   keren tampilan y       5  2018      2   \n",
              "1                                  sangat mmpermudah       5  2018      2   \n",
              "2                                           keren...       5  2018      2   \n",
              "3  metode pembayarannya di tambah dong, e cash li...       4  2018      2   \n",
              "4                                    lebih praktis 😀       5  2018      2   \n",
              "\n",
              "   Day                                review_descriptiont  \\\n",
              "0    6                                   keren tampilan y   \n",
              "1    7                                  sangat mmpermudah   \n",
              "2    7                                           keren...   \n",
              "3    7  metode pembayarannya di tambah dong, e cash li...   \n",
              "4    7                                    lebih praktis 😀   \n",
              "\n",
              "                                       content_token  sentiment  \\\n",
              "0                         ['keren', 'tampilan', 'y']          1   \n",
              "1                                     ['mmpermudah']          1   \n",
              "2                                          ['keren']          1   \n",
              "3  ['metode', 'pembayarannya', 'e', 'cash', 'line...          1   \n",
              "4                                        ['praktis']          1   \n",
              "\n",
              "                                             stemmed  \\\n",
              "0                           ['keren', 'tampil', 'y']   \n",
              "1                                     ['mmpermudah']   \n",
              "2                                          ['keren']   \n",
              "3  ['metode', 'bayar', 'e', 'cash', 'linepay', 'c...   \n",
              "4                                        ['praktis']   \n",
              "\n",
              "                             text_string  \n",
              "0                           keren tampil  \n",
              "1                             mmpermudah  \n",
              "2                                  keren  \n",
              "3  metode bayar cash linepay cash hilang  \n",
              "4                                praktis  "
            ],
            "text/html": [
              "\n",
              "  <div id=\"df-2ec7901f-a8c0-484f-876b-19f7b2a31be8\" class=\"colab-df-container\">\n",
              "    <div>\n",
              "<style scoped>\n",
              "    .dataframe tbody tr th:only-of-type {\n",
              "        vertical-align: middle;\n",
              "    }\n",
              "\n",
              "    .dataframe tbody tr th {\n",
              "        vertical-align: top;\n",
              "    }\n",
              "\n",
              "    .dataframe thead th {\n",
              "        text-align: right;\n",
              "    }\n",
              "</style>\n",
              "<table border=\"1\" class=\"dataframe\">\n",
              "  <thead>\n",
              "    <tr style=\"text-align: right;\">\n",
              "      <th></th>\n",
              "      <th>review_description</th>\n",
              "      <th>rating</th>\n",
              "      <th>Year</th>\n",
              "      <th>Month</th>\n",
              "      <th>Day</th>\n",
              "      <th>review_descriptiont</th>\n",
              "      <th>content_token</th>\n",
              "      <th>sentiment</th>\n",
              "      <th>stemmed</th>\n",
              "      <th>text_string</th>\n",
              "    </tr>\n",
              "  </thead>\n",
              "  <tbody>\n",
              "    <tr>\n",
              "      <th>0</th>\n",
              "      <td>keren tampilan y</td>\n",
              "      <td>5</td>\n",
              "      <td>2018</td>\n",
              "      <td>2</td>\n",
              "      <td>6</td>\n",
              "      <td>keren tampilan y</td>\n",
              "      <td>['keren', 'tampilan', 'y']</td>\n",
              "      <td>1</td>\n",
              "      <td>['keren', 'tampil', 'y']</td>\n",
              "      <td>keren tampil</td>\n",
              "    </tr>\n",
              "    <tr>\n",
              "      <th>1</th>\n",
              "      <td>sangat mmpermudah</td>\n",
              "      <td>5</td>\n",
              "      <td>2018</td>\n",
              "      <td>2</td>\n",
              "      <td>7</td>\n",
              "      <td>sangat mmpermudah</td>\n",
              "      <td>['mmpermudah']</td>\n",
              "      <td>1</td>\n",
              "      <td>['mmpermudah']</td>\n",
              "      <td>mmpermudah</td>\n",
              "    </tr>\n",
              "    <tr>\n",
              "      <th>2</th>\n",
              "      <td>keren...</td>\n",
              "      <td>5</td>\n",
              "      <td>2018</td>\n",
              "      <td>2</td>\n",
              "      <td>7</td>\n",
              "      <td>keren...</td>\n",
              "      <td>['keren']</td>\n",
              "      <td>1</td>\n",
              "      <td>['keren']</td>\n",
              "      <td>keren</td>\n",
              "    </tr>\n",
              "    <tr>\n",
              "      <th>3</th>\n",
              "      <td>metode pembayarannya di tambah dong, e cash li...</td>\n",
              "      <td>4</td>\n",
              "      <td>2018</td>\n",
              "      <td>2</td>\n",
              "      <td>7</td>\n",
              "      <td>metode pembayarannya di tambah dong, e cash li...</td>\n",
              "      <td>['metode', 'pembayarannya', 'e', 'cash', 'line...</td>\n",
              "      <td>1</td>\n",
              "      <td>['metode', 'bayar', 'e', 'cash', 'linepay', 'c...</td>\n",
              "      <td>metode bayar cash linepay cash hilang</td>\n",
              "    </tr>\n",
              "    <tr>\n",
              "      <th>4</th>\n",
              "      <td>lebih praktis 😀</td>\n",
              "      <td>5</td>\n",
              "      <td>2018</td>\n",
              "      <td>2</td>\n",
              "      <td>7</td>\n",
              "      <td>lebih praktis 😀</td>\n",
              "      <td>['praktis']</td>\n",
              "      <td>1</td>\n",
              "      <td>['praktis']</td>\n",
              "      <td>praktis</td>\n",
              "    </tr>\n",
              "  </tbody>\n",
              "</table>\n",
              "</div>\n",
              "    <div class=\"colab-df-buttons\">\n",
              "\n",
              "  <div class=\"colab-df-container\">\n",
              "    <button class=\"colab-df-convert\" onclick=\"convertToInteractive('df-2ec7901f-a8c0-484f-876b-19f7b2a31be8')\"\n",
              "            title=\"Convert this dataframe to an interactive table.\"\n",
              "            style=\"display:none;\">\n",
              "\n",
              "  <svg xmlns=\"http://www.w3.org/2000/svg\" height=\"24px\" viewBox=\"0 -960 960 960\">\n",
              "    <path d=\"M120-120v-720h720v720H120Zm60-500h600v-160H180v160Zm220 220h160v-160H400v160Zm0 220h160v-160H400v160ZM180-400h160v-160H180v160Zm440 0h160v-160H620v160ZM180-180h160v-160H180v160Zm440 0h160v-160H620v160Z\"/>\n",
              "  </svg>\n",
              "    </button>\n",
              "\n",
              "  <style>\n",
              "    .colab-df-container {\n",
              "      display:flex;\n",
              "      gap: 12px;\n",
              "    }\n",
              "\n",
              "    .colab-df-convert {\n",
              "      background-color: #E8F0FE;\n",
              "      border: none;\n",
              "      border-radius: 50%;\n",
              "      cursor: pointer;\n",
              "      display: none;\n",
              "      fill: #1967D2;\n",
              "      height: 32px;\n",
              "      padding: 0 0 0 0;\n",
              "      width: 32px;\n",
              "    }\n",
              "\n",
              "    .colab-df-convert:hover {\n",
              "      background-color: #E2EBFA;\n",
              "      box-shadow: 0px 1px 2px rgba(60, 64, 67, 0.3), 0px 1px 3px 1px rgba(60, 64, 67, 0.15);\n",
              "      fill: #174EA6;\n",
              "    }\n",
              "\n",
              "    .colab-df-buttons div {\n",
              "      margin-bottom: 4px;\n",
              "    }\n",
              "\n",
              "    [theme=dark] .colab-df-convert {\n",
              "      background-color: #3B4455;\n",
              "      fill: #D2E3FC;\n",
              "    }\n",
              "\n",
              "    [theme=dark] .colab-df-convert:hover {\n",
              "      background-color: #434B5C;\n",
              "      box-shadow: 0px 1px 3px 1px rgba(0, 0, 0, 0.15);\n",
              "      filter: drop-shadow(0px 1px 2px rgba(0, 0, 0, 0.3));\n",
              "      fill: #FFFFFF;\n",
              "    }\n",
              "  </style>\n",
              "\n",
              "    <script>\n",
              "      const buttonEl =\n",
              "        document.querySelector('#df-2ec7901f-a8c0-484f-876b-19f7b2a31be8 button.colab-df-convert');\n",
              "      buttonEl.style.display =\n",
              "        google.colab.kernel.accessAllowed ? 'block' : 'none';\n",
              "\n",
              "      async function convertToInteractive(key) {\n",
              "        const element = document.querySelector('#df-2ec7901f-a8c0-484f-876b-19f7b2a31be8');\n",
              "        const dataTable =\n",
              "          await google.colab.kernel.invokeFunction('convertToInteractive',\n",
              "                                                    [key], {});\n",
              "        if (!dataTable) return;\n",
              "\n",
              "        const docLinkHtml = 'Like what you see? Visit the ' +\n",
              "          '<a target=\"_blank\" href=https://colab.research.google.com/notebooks/data_table.ipynb>data table notebook</a>'\n",
              "          + ' to learn more about interactive tables.';\n",
              "        element.innerHTML = '';\n",
              "        dataTable['output_type'] = 'display_data';\n",
              "        await google.colab.output.renderOutput(dataTable, element);\n",
              "        const docLink = document.createElement('div');\n",
              "        docLink.innerHTML = docLinkHtml;\n",
              "        element.appendChild(docLink);\n",
              "      }\n",
              "    </script>\n",
              "  </div>\n",
              "\n",
              "\n",
              "<div id=\"df-d9506453-942a-43f0-95ca-de7e8c5db88a\">\n",
              "  <button class=\"colab-df-quickchart\" onclick=\"quickchart('df-d9506453-942a-43f0-95ca-de7e8c5db88a')\"\n",
              "            title=\"Suggest charts\"\n",
              "            style=\"display:none;\">\n",
              "\n",
              "<svg xmlns=\"http://www.w3.org/2000/svg\" height=\"24px\"viewBox=\"0 0 24 24\"\n",
              "     width=\"24px\">\n",
              "    <g>\n",
              "        <path d=\"M19 3H5c-1.1 0-2 .9-2 2v14c0 1.1.9 2 2 2h14c1.1 0 2-.9 2-2V5c0-1.1-.9-2-2-2zM9 17H7v-7h2v7zm4 0h-2V7h2v10zm4 0h-2v-4h2v4z\"/>\n",
              "    </g>\n",
              "</svg>\n",
              "  </button>\n",
              "\n",
              "<style>\n",
              "  .colab-df-quickchart {\n",
              "      --bg-color: #E8F0FE;\n",
              "      --fill-color: #1967D2;\n",
              "      --hover-bg-color: #E2EBFA;\n",
              "      --hover-fill-color: #174EA6;\n",
              "      --disabled-fill-color: #AAA;\n",
              "      --disabled-bg-color: #DDD;\n",
              "  }\n",
              "\n",
              "  [theme=dark] .colab-df-quickchart {\n",
              "      --bg-color: #3B4455;\n",
              "      --fill-color: #D2E3FC;\n",
              "      --hover-bg-color: #434B5C;\n",
              "      --hover-fill-color: #FFFFFF;\n",
              "      --disabled-bg-color: #3B4455;\n",
              "      --disabled-fill-color: #666;\n",
              "  }\n",
              "\n",
              "  .colab-df-quickchart {\n",
              "    background-color: var(--bg-color);\n",
              "    border: none;\n",
              "    border-radius: 50%;\n",
              "    cursor: pointer;\n",
              "    display: none;\n",
              "    fill: var(--fill-color);\n",
              "    height: 32px;\n",
              "    padding: 0;\n",
              "    width: 32px;\n",
              "  }\n",
              "\n",
              "  .colab-df-quickchart:hover {\n",
              "    background-color: var(--hover-bg-color);\n",
              "    box-shadow: 0 1px 2px rgba(60, 64, 67, 0.3), 0 1px 3px 1px rgba(60, 64, 67, 0.15);\n",
              "    fill: var(--button-hover-fill-color);\n",
              "  }\n",
              "\n",
              "  .colab-df-quickchart-complete:disabled,\n",
              "  .colab-df-quickchart-complete:disabled:hover {\n",
              "    background-color: var(--disabled-bg-color);\n",
              "    fill: var(--disabled-fill-color);\n",
              "    box-shadow: none;\n",
              "  }\n",
              "\n",
              "  .colab-df-spinner {\n",
              "    border: 2px solid var(--fill-color);\n",
              "    border-color: transparent;\n",
              "    border-bottom-color: var(--fill-color);\n",
              "    animation:\n",
              "      spin 1s steps(1) infinite;\n",
              "  }\n",
              "\n",
              "  @keyframes spin {\n",
              "    0% {\n",
              "      border-color: transparent;\n",
              "      border-bottom-color: var(--fill-color);\n",
              "      border-left-color: var(--fill-color);\n",
              "    }\n",
              "    20% {\n",
              "      border-color: transparent;\n",
              "      border-left-color: var(--fill-color);\n",
              "      border-top-color: var(--fill-color);\n",
              "    }\n",
              "    30% {\n",
              "      border-color: transparent;\n",
              "      border-left-color: var(--fill-color);\n",
              "      border-top-color: var(--fill-color);\n",
              "      border-right-color: var(--fill-color);\n",
              "    }\n",
              "    40% {\n",
              "      border-color: transparent;\n",
              "      border-right-color: var(--fill-color);\n",
              "      border-top-color: var(--fill-color);\n",
              "    }\n",
              "    60% {\n",
              "      border-color: transparent;\n",
              "      border-right-color: var(--fill-color);\n",
              "    }\n",
              "    80% {\n",
              "      border-color: transparent;\n",
              "      border-right-color: var(--fill-color);\n",
              "      border-bottom-color: var(--fill-color);\n",
              "    }\n",
              "    90% {\n",
              "      border-color: transparent;\n",
              "      border-bottom-color: var(--fill-color);\n",
              "    }\n",
              "  }\n",
              "</style>\n",
              "\n",
              "  <script>\n",
              "    async function quickchart(key) {\n",
              "      const quickchartButtonEl =\n",
              "        document.querySelector('#' + key + ' button');\n",
              "      quickchartButtonEl.disabled = true;  // To prevent multiple clicks.\n",
              "      quickchartButtonEl.classList.add('colab-df-spinner');\n",
              "      try {\n",
              "        const charts = await google.colab.kernel.invokeFunction(\n",
              "            'suggestCharts', [key], {});\n",
              "      } catch (error) {\n",
              "        console.error('Error during call to suggestCharts:', error);\n",
              "      }\n",
              "      quickchartButtonEl.classList.remove('colab-df-spinner');\n",
              "      quickchartButtonEl.classList.add('colab-df-quickchart-complete');\n",
              "    }\n",
              "    (() => {\n",
              "      let quickchartButtonEl =\n",
              "        document.querySelector('#df-d9506453-942a-43f0-95ca-de7e8c5db88a button');\n",
              "      quickchartButtonEl.style.display =\n",
              "        google.colab.kernel.accessAllowed ? 'block' : 'none';\n",
              "    })();\n",
              "  </script>\n",
              "</div>\n",
              "\n",
              "    </div>\n",
              "  </div>\n"
            ],
            "application/vnd.google.colaboratory.intrinsic+json": {
              "type": "dataframe",
              "variable_name": "data",
              "summary": "{\n  \"name\": \"data\",\n  \"rows\": 6719,\n  \"fields\": [\n    {\n      \"column\": \"review_description\",\n      \"properties\": {\n        \"dtype\": \"string\",\n        \"num_unique_values\": 6719,\n        \"samples\": [\n          \"aplikasi nya sangat membantu .. saran .. tolong tambahkan chart candle stick agar lebih menarik lagi . terimakasih\",\n          \"mudah dalam bertransaksi\",\n          \"kurqng memuaskan, ketika masuk susah. padahal berminat investasi reksadana\"\n        ],\n        \"semantic_type\": \"\",\n        \"description\": \"\"\n      }\n    },\n    {\n      \"column\": \"rating\",\n      \"properties\": {\n        \"dtype\": \"number\",\n        \"std\": 1,\n        \"min\": 1,\n        \"max\": 5,\n        \"num_unique_values\": 5,\n        \"samples\": [\n          4,\n          1,\n          2\n        ],\n        \"semantic_type\": \"\",\n        \"description\": \"\"\n      }\n    },\n    {\n      \"column\": \"Year\",\n      \"properties\": {\n        \"dtype\": \"number\",\n        \"std\": 1,\n        \"min\": 2018,\n        \"max\": 2023,\n        \"num_unique_values\": 6,\n        \"samples\": [\n          2018,\n          2019,\n          2023\n        ],\n        \"semantic_type\": \"\",\n        \"description\": \"\"\n      }\n    },\n    {\n      \"column\": \"Month\",\n      \"properties\": {\n        \"dtype\": \"number\",\n        \"std\": 3,\n        \"min\": 1,\n        \"max\": 12,\n        \"num_unique_values\": 12,\n        \"samples\": [\n          12,\n          11,\n          2\n        ],\n        \"semantic_type\": \"\",\n        \"description\": \"\"\n      }\n    },\n    {\n      \"column\": \"Day\",\n      \"properties\": {\n        \"dtype\": \"number\",\n        \"std\": 9,\n        \"min\": 1,\n        \"max\": 31,\n        \"num_unique_values\": 31,\n        \"samples\": [\n          30,\n          23,\n          3\n        ],\n        \"semantic_type\": \"\",\n        \"description\": \"\"\n      }\n    },\n    {\n      \"column\": \"review_descriptiont\",\n      \"properties\": {\n        \"dtype\": \"string\",\n        \"num_unique_values\": 6719,\n        \"samples\": [\n          \"aplikasi nya sangat membantu .. saran .. tolong tambahkan chart candle stick agar lebih menarik lagi . terimakasih\",\n          \"mudah dalam bertransaksi\",\n          \"kurqng memuaskan, ketika masuk susah. padahal berminat investasi reksadana\"\n        ],\n        \"semantic_type\": \"\",\n        \"description\": \"\"\n      }\n    },\n    {\n      \"column\": \"content_token\",\n      \"properties\": {\n        \"dtype\": \"string\",\n        \"num_unique_values\": 6293,\n        \"samples\": [\n          \"['pembayaran', 'transfer', 'dipermudah', 'konfirmasi', 'upload', 'tanda', 'bukti', 'gak', 'praktis', 'jaman', 'virtual', 'biar', 'mudah', 'gak', 'bolak', 'aplikasi']\",\n          \"['investasi', 'yg', 'mudah', 'aman', 'aplikasi', 'harapan', 'menambah', 'income', 'investornya', 'menerus']\",\n          \"['aplikasi', 'yg', 'menarik', 'mudah', 'utk', 'd']\"\n        ],\n        \"semantic_type\": \"\",\n        \"description\": \"\"\n      }\n    },\n    {\n      \"column\": \"sentiment\",\n      \"properties\": {\n        \"dtype\": \"number\",\n        \"std\": 0,\n        \"min\": -1,\n        \"max\": 1,\n        \"num_unique_values\": 3,\n        \"samples\": [\n          1,\n          -1,\n          0\n        ],\n        \"semantic_type\": \"\",\n        \"description\": \"\"\n      }\n    },\n    {\n      \"column\": \"stemmed\",\n      \"properties\": {\n        \"dtype\": \"string\",\n        \"num_unique_values\": 6236,\n        \"samples\": [\n          \"['breksa', 'lambann', 'bgt', 'koneksi', 'internettt', 'baguss', 'bgt', 'main', 'pubg', 'ajja', 'lancar', 'jaya', 'buka', 'breksa', 'sambung', 'jaring', 'apaa']\",\n          \"['aplikasi', 'bagus', 'ajar', 'rencana', 'uang', 'individu', 'mantaps']\",\n          \"['trmksh', 'bantu', 'kait', 'dana', 'topup', 'udah', 'naikin', 'bintang', '5', 'minn', 'trmksh', 'ya']\"\n        ],\n        \"semantic_type\": \"\",\n        \"description\": \"\"\n      }\n    },\n    {\n      \"column\": \"text_string\",\n      \"properties\": {\n        \"dtype\": \"string\",\n        \"num_unique_values\": 5946,\n        \"samples\": [\n          \"verifikasi selesai verifikasi\",\n          \"email lambat live chat aplikasi main bingung beli produk susah masuk grup telegram butuh grup telegram orang sopan becanda kick sopan ganggu tenang moga baik depan penting live chat biar nanya langsung kaya toko belah\",\n          \"mudah beli reksadana lancar jual\"\n        ],\n        \"semantic_type\": \"\",\n        \"description\": \"\"\n      }\n    }\n  ]\n}"
            }
          },
          "metadata": {},
          "execution_count": 33
        }
      ]
    },
    {
      "cell_type": "code",
      "source": [
        "data_review_new = data[['Year', 'Month', 'sentiment']]\n",
        "result = data_review_new.groupby(['sentiment']).size()\n",
        "# plot the result\n",
        "sns.barplot(x = result.index, y = result.values)"
      ],
      "metadata": {
        "colab": {
          "base_uri": "https://localhost:8080/",
          "height": 467
        },
        "id": "t0cATwxM1x2-",
        "outputId": "c1d6760a-115f-45f2-c7a4-ae10fb77a717"
      },
      "execution_count": 34,
      "outputs": [
        {
          "output_type": "execute_result",
          "data": {
            "text/plain": [
              "<Axes: xlabel='sentiment'>"
            ]
          },
          "metadata": {},
          "execution_count": 34
        },
        {
          "output_type": "display_data",
          "data": {
            "text/plain": [
              "<Figure size 640x480 with 1 Axes>"
            ],
            "image/png": "[encoded data removed]"
          },
          "metadata": {}
        }
      ]
    },
    {
      "cell_type": "code",
      "source": [
        "# Text Preprocessing & Cleaning\n",
        "from sklearn.feature_extraction.text import TfidfVectorizer\n",
        "from sklearn.model_selection import train_test_split # Split Data\n",
        "from imblearn.over_sampling import SMOTE # Handling Imbalanced\n",
        "from sklearn.naive_bayes import MultinomialNB\n",
        "# Data Visualization\n",
        "import matplotlib.pyplot as plt\n",
        "import warnings\n",
        "warnings.filterwarnings('ignore')\n",
        "%matplotlib inline"
      ],
      "metadata": {
        "id": "sL4D6OR_2Qq1"
      },
      "execution_count": 35,
      "outputs": []
    },
    {
      "cell_type": "code",
      "source": [
        "X = data['text_string']\n",
        "y = data['sentiment']\n",
        "\n",
        "# Handle missing values in 'text_string' column\n",
        "X = X.fillna('')  # Replace missing values with empty strings\n",
        "\n",
        "tfid = TfidfVectorizer()\n",
        "X_final =  tfid.fit_transform(X)"
      ],
      "metadata": {
        "id": "cUM8zH7z28wp"
      },
      "execution_count": 36,
      "outputs": []
    },
    {
      "cell_type": "code",
      "source": [
        "smote = SMOTE()\n",
        "x_sm,y_sm = smote.fit_resample(X_final,y)"
      ],
      "metadata": {
        "id": "rdVKLLHj3b3v"
      },
      "execution_count": 37,
      "outputs": []
    },
    {
      "cell_type": "code",
      "source": [
        "from sklearn.model_selection import train_test_split\n",
        "X_train, X_test, y_train, y_test = train_test_split(X, y, random_state=0)"
      ],
      "metadata": {
        "id": "ZWqWNuAu3g2w"
      },
      "execution_count": 30,
      "outputs": []
    },
    {
      "cell_type": "code",
      "source": [
        "#Data train 70 data test 30\n",
        "X_train , X_test , y_train , y_test = train_test_split(x_sm , y_sm , test_size=0.3,random_state=3)"
      ],
      "metadata": {
        "id": "Id77dQlh31ql"
      },
      "execution_count": 31,
      "outputs": []
    },
    {
      "cell_type": "code",
      "source": [
        "nb = MultinomialNB()\n",
        "nb.fit(X_train,y_train)\n",
        "nb_prediction =  nb.predict(X_test)\n",
        "accuracy_score(nb_prediction,y_test)"
      ],
      "metadata": {
        "colab": {
          "base_uri": "https://localhost:8080/"
        },
        "id": "Q2n0unpe4ity",
        "outputId": "46ccca8d-ba73-4046-cbe4-44cb27c9876f"
      },
      "execution_count": 32,
      "outputs": [
        {
          "output_type": "execute_result",
          "data": {
            "text/plain": [
              "0.7392919039366179"
            ]
          },
          "metadata": {},
          "execution_count": 32
        }
      ]
    }
  ]
}