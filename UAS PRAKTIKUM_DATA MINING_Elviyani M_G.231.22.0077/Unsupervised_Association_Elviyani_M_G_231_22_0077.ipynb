{
  "nbformat": 4,
  "nbformat_minor": 0,
  "metadata": {
    "colab": {
      "provenance": []
    },
    "kernelspec": {
      "name": "python3",
      "display_name": "Python 3"
    },
    "language_info": {
      "name": "python"
    }
  },
  "cells": [
    {
      "cell_type": "code",
      "source": [
        "Nama : Elviyani Mawarni\n",
        "NIM : G.231.22.0077\n",
        "\n",
        "UAS UNSUPERVISED ASSOCIATION"
      ],
      "metadata": {
        "id": "ODP0xp5NqD99"
      },
      "execution_count": null,
      "outputs": []
    },
    {
      "cell_type": "code",
      "execution_count": null,
      "metadata": {
        "id": "noqIcY4NiofC"
      },
      "outputs": [],
      "source": [
        "import pandas as pd\n",
        "import numpy as np"
      ]
    },
    {
      "cell_type": "code",
      "source": [
        "data1 = {'id_transaksi': [1, 2, 3, 4, 5,6 ,7, 8, 9],\n",
        "        'Items': ['Ice Cream,Roti,Keju', 'Roti,Keju', 'Roti,Sprite', 'Roti,Sprite, Sosis', 'Ice Cream,Sprite', 'Ice Cream, Roti', 'Keju,Sprite', 'Keju,Ice Cream,Sprite,Roti', 'Ice Cream, Roti, Sosis']}\n",
        "df = pd.DataFrame(data1)\n",
        "df"
      ],
      "metadata": {
        "colab": {
          "base_uri": "https://localhost:8080/",
          "height": 331
        },
        "id": "8oZ49Xc1isO1",
        "outputId": "3a10fc0a-8fac-494e-eb35-6a4778408501"
      },
      "execution_count": null,
      "outputs": [
        {
          "output_type": "execute_result",
          "data": {
            "text/plain": [
              "   id_transaksi                       Items\n",
              "0             1         Ice Cream,Roti,Keju\n",
              "1             2                   Roti,Keju\n",
              "2             3                 Roti,Sprite\n",
              "3             4          Roti,Sprite, Sosis\n",
              "4             5            Ice Cream,Sprite\n",
              "5             6             Ice Cream, Roti\n",
              "6             7                 Keju,Sprite\n",
              "7             8  Keju,Ice Cream,Sprite,Roti\n",
              "8             9      Ice Cream, Roti, Sosis"
            ],
            "text/html": [
              "\n",
              "  <div id=\"df-9d910534-e6a0-4613-b620-0b634b61432b\" class=\"colab-df-container\">\n",
              "    <div>\n",
              "<style scoped>\n",
              "    .dataframe tbody tr th:only-of-type {\n",
              "        vertical-align: middle;\n",
              "    }\n",
              "\n",
              "    .dataframe tbody tr th {\n",
              "        vertical-align: top;\n",
              "    }\n",
              "\n",
              "    .dataframe thead th {\n",
              "        text-align: right;\n",
              "    }\n",
              "</style>\n",
              "<table border=\"1\" class=\"dataframe\">\n",
              "  <thead>\n",
              "    <tr style=\"text-align: right;\">\n",
              "      <th></th>\n",
              "      <th>id_transaksi</th>\n",
              "      <th>Items</th>\n",
              "    </tr>\n",
              "  </thead>\n",
              "  <tbody>\n",
              "    <tr>\n",
              "      <th>0</th>\n",
              "      <td>1</td>\n",
              "      <td>Ice Cream,Roti,Keju</td>\n",
              "    </tr>\n",
              "    <tr>\n",
              "      <th>1</th>\n",
              "      <td>2</td>\n",
              "      <td>Roti,Keju</td>\n",
              "    </tr>\n",
              "    <tr>\n",
              "      <th>2</th>\n",
              "      <td>3</td>\n",
              "      <td>Roti,Sprite</td>\n",
              "    </tr>\n",
              "    <tr>\n",
              "      <th>3</th>\n",
              "      <td>4</td>\n",
              "      <td>Roti,Sprite, Sosis</td>\n",
              "    </tr>\n",
              "    <tr>\n",
              "      <th>4</th>\n",
              "      <td>5</td>\n",
              "      <td>Ice Cream,Sprite</td>\n",
              "    </tr>\n",
              "    <tr>\n",
              "      <th>5</th>\n",
              "      <td>6</td>\n",
              "      <td>Ice Cream, Roti</td>\n",
              "    </tr>\n",
              "    <tr>\n",
              "      <th>6</th>\n",
              "      <td>7</td>\n",
              "      <td>Keju,Sprite</td>\n",
              "    </tr>\n",
              "    <tr>\n",
              "      <th>7</th>\n",
              "      <td>8</td>\n",
              "      <td>Keju,Ice Cream,Sprite,Roti</td>\n",
              "    </tr>\n",
              "    <tr>\n",
              "      <th>8</th>\n",
              "      <td>9</td>\n",
              "      <td>Ice Cream, Roti, Sosis</td>\n",
              "    </tr>\n",
              "  </tbody>\n",
              "</table>\n",
              "</div>\n",
              "    <div class=\"colab-df-buttons\">\n",
              "\n",
              "  <div class=\"colab-df-container\">\n",
              "    <button class=\"colab-df-convert\" onclick=\"convertToInteractive('df-9d910534-e6a0-4613-b620-0b634b61432b')\"\n",
              "            title=\"Convert this dataframe to an interactive table.\"\n",
              "            style=\"display:none;\">\n",
              "\n",
              "  <svg xmlns=\"http://www.w3.org/2000/svg\" height=\"24px\" viewBox=\"0 -960 960 960\">\n",
              "    <path d=\"M120-120v-720h720v720H120Zm60-500h600v-160H180v160Zm220 220h160v-160H400v160Zm0 220h160v-160H400v160ZM180-400h160v-160H180v160Zm440 0h160v-160H620v160ZM180-180h160v-160H180v160Zm440 0h160v-160H620v160Z\"/>\n",
              "  </svg>\n",
              "    </button>\n",
              "\n",
              "  <style>\n",
              "    .colab-df-container {\n",
              "      display:flex;\n",
              "      gap: 12px;\n",
              "    }\n",
              "\n",
              "    .colab-df-convert {\n",
              "      background-color: #E8F0FE;\n",
              "      border: none;\n",
              "      border-radius: 50%;\n",
              "      cursor: pointer;\n",
              "      display: none;\n",
              "      fill: #1967D2;\n",
              "      height: 32px;\n",
              "      padding: 0 0 0 0;\n",
              "      width: 32px;\n",
              "    }\n",
              "\n",
              "    .colab-df-convert:hover {\n",
              "      background-color: #E2EBFA;\n",
              "      box-shadow: 0px 1px 2px rgba(60, 64, 67, 0.3), 0px 1px 3px 1px rgba(60, 64, 67, 0.15);\n",
              "      fill: #174EA6;\n",
              "    }\n",
              "\n",
              "    .colab-df-buttons div {\n",
              "      margin-bottom: 4px;\n",
              "    }\n",
              "\n",
              "    [theme=dark] .colab-df-convert {\n",
              "      background-color: #3B4455;\n",
              "      fill: #D2E3FC;\n",
              "    }\n",
              "\n",
              "    [theme=dark] .colab-df-convert:hover {\n",
              "      background-color: #434B5C;\n",
              "      box-shadow: 0px 1px 3px 1px rgba(0, 0, 0, 0.15);\n",
              "      filter: drop-shadow(0px 1px 2px rgba(0, 0, 0, 0.3));\n",
              "      fill: #FFFFFF;\n",
              "    }\n",
              "  </style>\n",
              "\n",
              "    <script>\n",
              "      const buttonEl =\n",
              "        document.querySelector('#df-9d910534-e6a0-4613-b620-0b634b61432b button.colab-df-convert');\n",
              "      buttonEl.style.display =\n",
              "        google.colab.kernel.accessAllowed ? 'block' : 'none';\n",
              "\n",
              "      async function convertToInteractive(key) {\n",
              "        const element = document.querySelector('#df-9d910534-e6a0-4613-b620-0b634b61432b');\n",
              "        const dataTable =\n",
              "          await google.colab.kernel.invokeFunction('convertToInteractive',\n",
              "                                                    [key], {});\n",
              "        if (!dataTable) return;\n",
              "\n",
              "        const docLinkHtml = 'Like what you see? Visit the ' +\n",
              "          '<a target=\"_blank\" href=https://colab.research.google.com/notebooks/data_table.ipynb>data table notebook</a>'\n",
              "          + ' to learn more about interactive tables.';\n",
              "        element.innerHTML = '';\n",
              "        dataTable['output_type'] = 'display_data';\n",
              "        await google.colab.output.renderOutput(dataTable, element);\n",
              "        const docLink = document.createElement('div');\n",
              "        docLink.innerHTML = docLinkHtml;\n",
              "        element.appendChild(docLink);\n",
              "      }\n",
              "    </script>\n",
              "  </div>\n",
              "\n",
              "\n",
              "<div id=\"df-2a47a6ed-2d8c-49d0-bfd0-d163f10baaac\">\n",
              "  <button class=\"colab-df-quickchart\" onclick=\"quickchart('df-2a47a6ed-2d8c-49d0-bfd0-d163f10baaac')\"\n",
              "            title=\"Suggest charts\"\n",
              "            style=\"display:none;\">\n",
              "\n",
              "<svg xmlns=\"http://www.w3.org/2000/svg\" height=\"24px\"viewBox=\"0 0 24 24\"\n",
              "     width=\"24px\">\n",
              "    <g>\n",
              "        <path d=\"M19 3H5c-1.1 0-2 .9-2 2v14c0 1.1.9 2 2 2h14c1.1 0 2-.9 2-2V5c0-1.1-.9-2-2-2zM9 17H7v-7h2v7zm4 0h-2V7h2v10zm4 0h-2v-4h2v4z\"/>\n",
              "    </g>\n",
              "</svg>\n",
              "  </button>\n",
              "\n",
              "<style>\n",
              "  .colab-df-quickchart {\n",
              "      --bg-color: #E8F0FE;\n",
              "      --fill-color: #1967D2;\n",
              "      --hover-bg-color: #E2EBFA;\n",
              "      --hover-fill-color: #174EA6;\n",
              "      --disabled-fill-color: #AAA;\n",
              "      --disabled-bg-color: #DDD;\n",
              "  }\n",
              "\n",
              "  [theme=dark] .colab-df-quickchart {\n",
              "      --bg-color: #3B4455;\n",
              "      --fill-color: #D2E3FC;\n",
              "      --hover-bg-color: #434B5C;\n",
              "      --hover-fill-color: #FFFFFF;\n",
              "      --disabled-bg-color: #3B4455;\n",
              "      --disabled-fill-color: #666;\n",
              "  }\n",
              "\n",
              "  .colab-df-quickchart {\n",
              "    background-color: var(--bg-color);\n",
              "    border: none;\n",
              "    border-radius: 50%;\n",
              "    cursor: pointer;\n",
              "    display: none;\n",
              "    fill: var(--fill-color);\n",
              "    height: 32px;\n",
              "    padding: 0;\n",
              "    width: 32px;\n",
              "  }\n",
              "\n",
              "  .colab-df-quickchart:hover {\n",
              "    background-color: var(--hover-bg-color);\n",
              "    box-shadow: 0 1px 2px rgba(60, 64, 67, 0.3), 0 1px 3px 1px rgba(60, 64, 67, 0.15);\n",
              "    fill: var(--button-hover-fill-color);\n",
              "  }\n",
              "\n",
              "  .colab-df-quickchart-complete:disabled,\n",
              "  .colab-df-quickchart-complete:disabled:hover {\n",
              "    background-color: var(--disabled-bg-color);\n",
              "    fill: var(--disabled-fill-color);\n",
              "    box-shadow: none;\n",
              "  }\n",
              "\n",
              "  .colab-df-spinner {\n",
              "    border: 2px solid var(--fill-color);\n",
              "    border-color: transparent;\n",
              "    border-bottom-color: var(--fill-color);\n",
              "    animation:\n",
              "      spin 1s steps(1) infinite;\n",
              "  }\n",
              "\n",
              "  @keyframes spin {\n",
              "    0% {\n",
              "      border-color: transparent;\n",
              "      border-bottom-color: var(--fill-color);\n",
              "      border-left-color: var(--fill-color);\n",
              "    }\n",
              "    20% {\n",
              "      border-color: transparent;\n",
              "      border-left-color: var(--fill-color);\n",
              "      border-top-color: var(--fill-color);\n",
              "    }\n",
              "    30% {\n",
              "      border-color: transparent;\n",
              "      border-left-color: var(--fill-color);\n",
              "      border-top-color: var(--fill-color);\n",
              "      border-right-color: var(--fill-color);\n",
              "    }\n",
              "    40% {\n",
              "      border-color: transparent;\n",
              "      border-right-color: var(--fill-color);\n",
              "      border-top-color: var(--fill-color);\n",
              "    }\n",
              "    60% {\n",
              "      border-color: transparent;\n",
              "      border-right-color: var(--fill-color);\n",
              "    }\n",
              "    80% {\n",
              "      border-color: transparent;\n",
              "      border-right-color: var(--fill-color);\n",
              "      border-bottom-color: var(--fill-color);\n",
              "    }\n",
              "    90% {\n",
              "      border-color: transparent;\n",
              "      border-bottom-color: var(--fill-color);\n",
              "    }\n",
              "  }\n",
              "</style>\n",
              "\n",
              "  <script>\n",
              "    async function quickchart(key) {\n",
              "      const quickchartButtonEl =\n",
              "        document.querySelector('#' + key + ' button');\n",
              "      quickchartButtonEl.disabled = true;  // To prevent multiple clicks.\n",
              "      quickchartButtonEl.classList.add('colab-df-spinner');\n",
              "      try {\n",
              "        const charts = await google.colab.kernel.invokeFunction(\n",
              "            'suggestCharts', [key], {});\n",
              "      } catch (error) {\n",
              "        console.error('Error during call to suggestCharts:', error);\n",
              "      }\n",
              "      quickchartButtonEl.classList.remove('colab-df-spinner');\n",
              "      quickchartButtonEl.classList.add('colab-df-quickchart-complete');\n",
              "    }\n",
              "    (() => {\n",
              "      let quickchartButtonEl =\n",
              "        document.querySelector('#df-2a47a6ed-2d8c-49d0-bfd0-d163f10baaac button');\n",
              "      quickchartButtonEl.style.display =\n",
              "        google.colab.kernel.accessAllowed ? 'block' : 'none';\n",
              "    })();\n",
              "  </script>\n",
              "</div>\n",
              "\n",
              "  <div id=\"id_1b123ef1-364f-4630-8c18-609b33272a9e\">\n",
              "    <style>\n",
              "      .colab-df-generate {\n",
              "        background-color: #E8F0FE;\n",
              "        border: none;\n",
              "        border-radius: 50%;\n",
              "        cursor: pointer;\n",
              "        display: none;\n",
              "        fill: #1967D2;\n",
              "        height: 32px;\n",
              "        padding: 0 0 0 0;\n",
              "        width: 32px;\n",
              "      }\n",
              "\n",
              "      .colab-df-generate:hover {\n",
              "        background-color: #E2EBFA;\n",
              "        box-shadow: 0px 1px 2px rgba(60, 64, 67, 0.3), 0px 1px 3px 1px rgba(60, 64, 67, 0.15);\n",
              "        fill: #174EA6;\n",
              "      }\n",
              "\n",
              "      [theme=dark] .colab-df-generate {\n",
              "        background-color: #3B4455;\n",
              "        fill: #D2E3FC;\n",
              "      }\n",
              "\n",
              "      [theme=dark] .colab-df-generate:hover {\n",
              "        background-color: #434B5C;\n",
              "        box-shadow: 0px 1px 3px 1px rgba(0, 0, 0, 0.15);\n",
              "        filter: drop-shadow(0px 1px 2px rgba(0, 0, 0, 0.3));\n",
              "        fill: #FFFFFF;\n",
              "      }\n",
              "    </style>\n",
              "    <button class=\"colab-df-generate\" onclick=\"generateWithVariable('df')\"\n",
              "            title=\"Generate code using this dataframe.\"\n",
              "            style=\"display:none;\">\n",
              "\n",
              "  <svg xmlns=\"http://www.w3.org/2000/svg\" height=\"24px\"viewBox=\"0 0 24 24\"\n",
              "       width=\"24px\">\n",
              "    <path d=\"M7,19H8.4L18.45,9,17,7.55,7,17.6ZM5,21V16.75L18.45,3.32a2,2,0,0,1,2.83,0l1.4,1.43a1.91,1.91,0,0,1,.58,1.4,1.91,1.91,0,0,1-.58,1.4L9.25,21ZM18.45,9,17,7.55Zm-12,3A5.31,5.31,0,0,0,4.9,8.1,5.31,5.31,0,0,0,1,6.5,5.31,5.31,0,0,0,4.9,4.9,5.31,5.31,0,0,0,6.5,1,5.31,5.31,0,0,0,8.1,4.9,5.31,5.31,0,0,0,12,6.5,5.46,5.46,0,0,0,6.5,12Z\"/>\n",
              "  </svg>\n",
              "    </button>\n",
              "    <script>\n",
              "      (() => {\n",
              "      const buttonEl =\n",
              "        document.querySelector('#id_1b123ef1-364f-4630-8c18-609b33272a9e button.colab-df-generate');\n",
              "      buttonEl.style.display =\n",
              "        google.colab.kernel.accessAllowed ? 'block' : 'none';\n",
              "\n",
              "      buttonEl.onclick = () => {\n",
              "        google.colab.notebook.generateWithVariable('df');\n",
              "      }\n",
              "      })();\n",
              "    </script>\n",
              "  </div>\n",
              "\n",
              "    </div>\n",
              "  </div>\n"
            ],
            "application/vnd.google.colaboratory.intrinsic+json": {
              "type": "dataframe",
              "variable_name": "df",
              "summary": "{\n  \"name\": \"df\",\n  \"rows\": 9,\n  \"fields\": [\n    {\n      \"column\": \"id_transaksi\",\n      \"properties\": {\n        \"dtype\": \"number\",\n        \"std\": 2,\n        \"min\": 1,\n        \"max\": 9,\n        \"num_unique_values\": 9,\n        \"samples\": [\n          8,\n          2,\n          6\n        ],\n        \"semantic_type\": \"\",\n        \"description\": \"\"\n      }\n    },\n    {\n      \"column\": \"Items\",\n      \"properties\": {\n        \"dtype\": \"string\",\n        \"num_unique_values\": 9,\n        \"samples\": [\n          \"Keju,Ice Cream,Sprite,Roti\",\n          \"Roti,Keju\",\n          \"Ice Cream, Roti\"\n        ],\n        \"semantic_type\": \"\",\n        \"description\": \"\"\n      }\n    }\n  ]\n}"
            }
          },
          "metadata": {},
          "execution_count": 18
        }
      ]
    },
    {
      "cell_type": "code",
      "source": [
        "df['Items'] = df['Items'].str.split(',')\n",
        "print(df['Items'])"
      ],
      "metadata": {
        "colab": {
          "base_uri": "https://localhost:8080/"
        },
        "id": "JWFeALq0jNp2",
        "outputId": "e2ac5c6e-827d-4c49-9926-3ff635ba14fc"
      },
      "execution_count": null,
      "outputs": [
        {
          "output_type": "stream",
          "name": "stdout",
          "text": [
            "0            [Ice Cream, Roti, Keju]\n",
            "1                       [Roti, Keju]\n",
            "2                     [Roti, Sprite]\n",
            "3             [Roti, Sprite,  Sosis]\n",
            "4                [Ice Cream, Sprite]\n",
            "5                 [Ice Cream,  Roti]\n",
            "6                     [Keju, Sprite]\n",
            "7    [Keju, Ice Cream, Sprite, Roti]\n",
            "8         [Ice Cream,  Roti,  Sosis]\n",
            "Name: Items, dtype: object\n"
          ]
        }
      ]
    },
    {
      "cell_type": "code",
      "source": [
        "unique_items = set(item for sublist in df['Items'] for item in sublist)\n",
        "print(unique_items)"
      ],
      "metadata": {
        "colab": {
          "base_uri": "https://localhost:8080/"
        },
        "id": "Yb1eEtJdjRjS",
        "outputId": "64313826-2904-4bf2-c6dc-0482461046e3"
      },
      "execution_count": null,
      "outputs": [
        {
          "output_type": "stream",
          "name": "stdout",
          "text": [
            "{'Roti', 'Ice Cream', 'Keju', ' Sosis', 'Sprite', ' Roti'}\n"
          ]
        }
      ]
    },
    {
      "cell_type": "code",
      "source": [
        "item_dict = {item: [] for item in unique_items}\n",
        "for col, row in df.iterrows():\n",
        "    for item in unique_items:\n",
        "        item_dict[item].append(int(item in row['Items']))"
      ],
      "metadata": {
        "id": "m1XCRrlfjUT3"
      },
      "execution_count": null,
      "outputs": []
    },
    {
      "cell_type": "code",
      "source": [
        "item_matrix = pd.DataFrame(item_dict)\n",
        "item_matrix['id_transaksi'] = df['id_transaksi']\n",
        "item_matrix = item_matrix[['id_transaksi'] + list(unique_items)]\n",
        "print(item_matrix)"
      ],
      "metadata": {
        "colab": {
          "base_uri": "https://localhost:8080/"
        },
        "id": "fqPDwYzFjVL3",
        "outputId": "c9be6ff1-49f4-426a-caf3-6de11458199d"
      },
      "execution_count": null,
      "outputs": [
        {
          "output_type": "stream",
          "name": "stdout",
          "text": [
            "   id_transaksi  Roti  Ice Cream  Keju   Sosis  Sprite   Roti\n",
            "0             1     1          1     1       0       0      0\n",
            "1             2     1          0     1       0       0      0\n",
            "2             3     1          0     0       0       1      0\n",
            "3             4     1          0     0       1       1      0\n",
            "4             5     0          1     0       0       1      0\n",
            "5             6     0          1     0       0       0      1\n",
            "6             7     0          0     1       0       1      0\n",
            "7             8     1          1     1       0       1      0\n",
            "8             9     0          1     0       1       0      1\n"
          ]
        }
      ]
    },
    {
      "cell_type": "code",
      "source": [
        "min_support = 2\n",
        "confidence_percent=50"
      ],
      "metadata": {
        "id": "BsQlBaLoja6h"
      },
      "execution_count": null,
      "outputs": []
    },
    {
      "cell_type": "code",
      "source": [
        "item_counts = {}\n",
        "for x, row in df.iterrows():\n",
        "    for item in row['Items']:\n",
        "        item_counts[item] = item_counts.get(item, 0) + 1\n",
        "\n",
        "item_counts"
      ],
      "metadata": {
        "colab": {
          "base_uri": "https://localhost:8080/"
        },
        "id": "Y67K1m-hjfbD",
        "outputId": "dd65830e-6539-4484-bf49-e64d13db68f9"
      },
      "execution_count": null,
      "outputs": [
        {
          "output_type": "execute_result",
          "data": {
            "text/plain": [
              "{'Ice Cream': 5, 'Roti': 5, 'Keju': 4, 'Sprite': 5, ' Sosis': 2, ' Roti': 2}"
            ]
          },
          "metadata": {},
          "execution_count": 24
        }
      ]
    },
    {
      "cell_type": "code",
      "source": [
        "sorted(item_counts)"
      ],
      "metadata": {
        "colab": {
          "base_uri": "https://localhost:8080/"
        },
        "id": "OQmlIqSmjn4N",
        "outputId": "580d2baa-7d53-4dec-cf68-66d51d8a0441"
      },
      "execution_count": null,
      "outputs": [
        {
          "output_type": "execute_result",
          "data": {
            "text/plain": [
              "[' Roti', ' Sosis', 'Ice Cream', 'Keju', 'Roti', 'Sprite']"
            ]
          },
          "metadata": {},
          "execution_count": 25
        }
      ]
    },
    {
      "cell_type": "code",
      "source": [
        "from itertools import combinations\n",
        "C1 = set()\n",
        "for x, row in df.iterrows():\n",
        "    for item in row['Items']:\n",
        "        C1.add((item,))\n",
        "candidate_counts = {item: 0 for item in C1}\n",
        "for x, row in df.iterrows():\n",
        "    for item in C1:\n",
        "        if item[0] in row['Items']:\n",
        "            candidate_counts[item] += 1\n",
        "\n",
        "L1 = {item: count for item, count in candidate_counts.items() if count >= min_support}\n",
        "L1 = {k: v for k, v in sorted(L1.items(), key=lambda item: item[0])}\n",
        "print(\"C1 :\", C1)\n",
        "print(\"L1 :\", L1)"
      ],
      "metadata": {
        "colab": {
          "base_uri": "https://localhost:8080/"
        },
        "id": "N14Y1ZbijqS5",
        "outputId": "672dd387-2424-4023-baf3-d79ea34c9bba"
      },
      "execution_count": null,
      "outputs": [
        {
          "output_type": "stream",
          "name": "stdout",
          "text": [
            "C1 : {('Ice Cream',), (' Roti',), ('Keju',), ('Roti',), ('Sprite',), (' Sosis',)}\n",
            "L1 : {(' Roti',): 2, (' Sosis',): 2, ('Ice Cream',): 5, ('Keju',): 4, ('Roti',): 5, ('Sprite',): 5}\n"
          ]
        }
      ]
    },
    {
      "cell_type": "code",
      "source": [
        "from itertools import combinations\n",
        "\n",
        "def generate_ck(l_prev, k):\n",
        "    ck = set()\n",
        "    for itemset1 in l_prev:\n",
        "        for itemset2 in l_prev:\n",
        "            union_set = set(itemset1).union(itemset2)\n",
        "            if len(union_set) == k:\n",
        "                ck.add(tuple(sorted(union_set)))\n",
        "    return ck\n",
        "\n",
        "def generate_lk(ck, df, min_support):\n",
        "    candidate_counts = {itemset: 0 for itemset in ck}\n",
        "    for x, row in df.iterrows():\n",
        "        for itemset in ck:\n",
        "            if all(item in row['Items'] for item in itemset):\n",
        "                candidate_counts[itemset] += 1\n",
        "    lk = {itemset: count for itemset, count in candidate_counts.items() if count >= min_support}\n",
        "    return lk\n",
        "\n",
        "def generate_frequent_itemsets(df, min_support):\n",
        "    frequent_itemsets = {}\n",
        "    k = 1\n",
        "    C1 = set()\n",
        "    for x, row in df.iterrows():\n",
        "        for item in row['Items']:\n",
        "            C1.add((item,))\n",
        "    L1 = generate_lk(C1, df, min_support)\n",
        "    frequent_itemsets.update(L1)\n",
        "\n",
        "    while True:\n",
        "        k += 1\n",
        "        ck = generate_ck(set(frequent_itemsets.keys()), k)\n",
        "        lk = generate_lk(ck, df, min_support)\n",
        "        if not lk:\n",
        "            break\n",
        "        frequent_itemsets.update(lk)\n",
        "\n",
        "    return frequent_itemsets"
      ],
      "metadata": {
        "id": "hcJ0IskQkDle"
      },
      "execution_count": null,
      "outputs": []
    },
    {
      "cell_type": "code",
      "source": [
        "frequent_itemsets = generate_frequent_itemsets(df, min_support)\n",
        "print(\"Frequent Itemsets:\")\n",
        "for itemset, support in frequent_itemsets.items():\n",
        "    print(itemset, support)"
      ],
      "metadata": {
        "colab": {
          "base_uri": "https://localhost:8080/"
        },
        "id": "mESCRz_tkGB4",
        "outputId": "e5da1494-965d-49ce-b10b-be8111ba00a8"
      },
      "execution_count": null,
      "outputs": [
        {
          "output_type": "stream",
          "name": "stdout",
          "text": [
            "Frequent Itemsets:\n",
            "('Ice Cream',) 5\n",
            "(' Roti',) 2\n",
            "('Keju',) 4\n",
            "('Roti',) 5\n",
            "('Sprite',) 5\n",
            "(' Sosis',) 2\n",
            "(' Roti', 'Ice Cream') 2\n",
            "('Keju', 'Roti') 3\n",
            "('Keju', 'Sprite') 2\n",
            "('Roti', 'Sprite') 3\n",
            "('Ice Cream', 'Keju') 2\n",
            "('Ice Cream', 'Roti') 2\n",
            "('Ice Cream', 'Sprite') 2\n",
            "('Ice Cream', 'Keju', 'Roti') 2\n"
          ]
        }
      ]
    },
    {
      "cell_type": "code",
      "source": [
        "def find_support(subset, frequent_itemsets):\n",
        "    subset = tuple(subset) if isinstance(subset, list) else subset\n",
        "    return frequent_itemsets.get(subset, 0)"
      ],
      "metadata": {
        "id": "1sSFIBrikIHD"
      },
      "execution_count": null,
      "outputs": []
    },
    {
      "cell_type": "code",
      "source": [
        "import itertools\n",
        "\n",
        "max_length = max(len(itemset) for itemset in frequent_itemsets)\n",
        "max_itemsets = [itemset for itemset in frequent_itemsets if len(itemset) == max_length]\n",
        "all_subsets = []\n",
        "for max_itemset in max_itemsets:\n",
        "    subsets = []\n",
        "    for r in range(1, len(max_itemset)):\n",
        "        subsets.extend(itertools.combinations(max_itemset, r))\n",
        "    all_subsets.append(subsets)\n",
        "\n",
        "print(\"Max Itemsets:\", max_itemsets)\n",
        "print(\"All subsets:\")\n",
        "for i, subsets in enumerate(all_subsets):\n",
        "    print(f\"Itemset {i+1}: \", subsets)"
      ],
      "metadata": {
        "colab": {
          "base_uri": "https://localhost:8080/"
        },
        "id": "WZhAVPUukLts",
        "outputId": "66901636-48ec-4f6e-fead-c44b62b19bfe"
      },
      "execution_count": null,
      "outputs": [
        {
          "output_type": "stream",
          "name": "stdout",
          "text": [
            "Max Itemsets: [('Ice Cream', 'Keju', 'Roti')]\n",
            "All subsets:\n",
            "Itemset 1:  [('Ice Cream',), ('Keju',), ('Roti',), ('Ice Cream', 'Keju'), ('Ice Cream', 'Roti'), ('Keju', 'Roti')]\n"
          ]
        }
      ]
    },
    {
      "cell_type": "code",
      "source": [
        "complementary_sets = []\n",
        "universal_sets = [set(max_itemset) for max_itemset in max_itemsets]\n",
        "\n",
        "for i, subset_list in enumerate(all_subsets):\n",
        "    max_itemset = max_itemsets[i]\n",
        "    universal_set = universal_sets[i]\n",
        "    complementary_sets_for_max_itemset = []\n",
        "    for subset in subset_list:\n",
        "        complementary_set = universal_set - set(subset)\n",
        "        complementary_sets_for_max_itemset.append(complementary_set)\n",
        "    complementary_sets.append(complementary_sets_for_max_itemset)\n",
        "\n",
        "for i, subset_list in enumerate(all_subsets):\n",
        "    max_itemset = max_itemsets[i]\n",
        "    print(f\"Complementary sets for Max Itemset {max_itemset}:\")\n",
        "    for j, subset in enumerate(subset_list):\n",
        "        print(f\"Complementary set for {subset}: {complementary_sets[i][j]}\")"
      ],
      "metadata": {
        "colab": {
          "base_uri": "https://localhost:8080/"
        },
        "id": "pTcdxm1BkMao",
        "outputId": "f3c71476-e736-42f7-d7cd-cf84bbcb42d1"
      },
      "execution_count": null,
      "outputs": [
        {
          "output_type": "stream",
          "name": "stdout",
          "text": [
            "Complementary sets for Max Itemset ('Ice Cream', 'Keju', 'Roti'):\n",
            "Complementary set for ('Ice Cream',): {'Keju', 'Roti'}\n",
            "Complementary set for ('Keju',): {'Ice Cream', 'Roti'}\n",
            "Complementary set for ('Roti',): {'Ice Cream', 'Keju'}\n",
            "Complementary set for ('Ice Cream', 'Keju'): {'Roti'}\n",
            "Complementary set for ('Ice Cream', 'Roti'): {'Keju'}\n",
            "Complementary set for ('Keju', 'Roti'): {'Ice Cream'}\n"
          ]
        }
      ]
    },
    {
      "cell_type": "code",
      "source": [
        "support_i_list = []\n",
        "#print(min_confidence)\n",
        "for max_itemset in max_itemsets:\n",
        "    support_i_list.append(frequent_itemsets[max_itemset])\n",
        "\n",
        "#print(support_i_list)\n",
        "strong_association = []\n",
        "for i, subset_list in enumerate(all_subsets):\n",
        "    max_itemset = max_itemsets[i]\n",
        "    support_i = support_i_list[i]\n",
        "\n",
        "    for subset in subset_list:\n",
        "        support_s = find_support(subset, frequent_itemsets)\n",
        "        ratio = (support_i / support_s ) * 100\n",
        "        if ratio >= confidence_percent:\n",
        "            strong_association.append((subset, set(max_itemset)-set(subset), ratio))"
      ],
      "metadata": {
        "id": "37bWvbv4kTL9"
      },
      "execution_count": null,
      "outputs": []
    },
    {
      "cell_type": "code",
      "source": [
        "print(\"Strong Associations dengan rasio dan Complementary Sets:\")\n",
        "for association in strong_association:\n",
        "    itemset = association[0]\n",
        "    print(f\"{itemset} -> {association[1]}, {association[2]:.2f}%\")"
      ],
      "metadata": {
        "colab": {
          "base_uri": "https://localhost:8080/"
        },
        "id": "sQvZ-JjckVrP",
        "outputId": "b6b52f30-b993-4d19-b796-7468982f34a4"
      },
      "execution_count": null,
      "outputs": [
        {
          "output_type": "stream",
          "name": "stdout",
          "text": [
            "Strong Associations dengan rasio dan Complementary Sets:\n",
            "('Keju',) -> {'Ice Cream', 'Roti'}, 50.00%\n",
            "('Ice Cream', 'Keju') -> {'Roti'}, 100.00%\n",
            "('Ice Cream', 'Roti') -> {'Keju'}, 100.00%\n",
            "('Keju', 'Roti') -> {'Ice Cream'}, 66.67%\n"
          ]
        }
      ]
    }
  ]
}